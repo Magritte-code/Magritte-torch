{
 "cells": [
  {
   "cell_type": "markdown",
   "metadata": {},
   "source": [
    "# Synth. Obs.: 3D Phantom - Reduction - NLTE"
   ]
  },
  {
   "cell_type": "markdown",
   "metadata": {},
   "source": [
    "We create synthetic observations for the Magritte model of the 3D Phantom snapshot that was created in the [this example](../1_post-processing/3_create_Phantom_3D.ipynb), after computing the radiation field self-consistently."
   ]
  },
  {
   "cell_type": "markdown",
   "metadata": {},
   "source": [
    "## Setup"
   ]
  },
  {
   "cell_type": "markdown",
   "metadata": {},
   "source": [
    "Import the required functionalty."
   ]
  },
  {
   "cell_type": "code",
   "execution_count": 1,
   "metadata": {},
   "outputs": [],
   "source": [
    "from magrittetorch.model.model import Model\n",
    "import magrittetorch.tools.plot as plot\n",
    "import magrittetorch.algorithms.solvers as solvers\n",
    "from astropy import units, constants\n",
    "import os\n",
    "import torch"
   ]
  },
  {
   "cell_type": "markdown",
   "metadata": {},
   "source": [
    "Define a working directory (you will have to change this). We assume here that the scripts of the [this example](../1_post-processing/3_create_Phantom_3D.ipynb) have already been executed and go back to that working directory."
   ]
  },
  {
   "cell_type": "code",
   "execution_count": 2,
   "metadata": {},
   "outputs": [],
   "source": [
    "wdir = \"/lhome/thomasc/Magrittetorch-examples/Phantom_3D/\""
   ]
  },
  {
   "cell_type": "markdown",
   "metadata": {},
   "source": [
    "Define file names."
   ]
  },
  {
   "cell_type": "code",
   "execution_count": 3,
   "metadata": {},
   "outputs": [],
   "source": [
    "model_file = os.path.join(wdir, 'model_Phantom_3D_red.hdf5')   # 3D Phantom Magrittetorch model"
   ]
  },
  {
   "cell_type": "markdown",
   "metadata": {},
   "source": [
    "Load the Magritte model."
   ]
  },
  {
   "cell_type": "code",
   "execution_count": 4,
   "metadata": {},
   "outputs": [
    {
     "name": "stdout",
     "output_type": "stream",
     "text": [
      "Reading model from:  /lhome/thomasc/Magrittetorch-examples/Phantom_3D/model_Phantom_3D_red.hdf5\n",
      "Reading Magrittetorch model\n"
     ]
    }
   ],
   "source": [
    "model = Model(model_file)\n",
    "model.read()"
   ]
  },
  {
   "cell_type": "markdown",
   "metadata": {},
   "source": [
    "## Model the medium"
   ]
  },
  {
   "cell_type": "markdown",
   "metadata": {},
   "source": [
    "Initialize the model"
   ]
  },
  {
   "cell_type": "code",
   "execution_count": 5,
   "metadata": {},
   "outputs": [],
   "source": [
    "model.dataCollection.infer_data()"
   ]
  },
  {
   "cell_type": "markdown",
   "metadata": {},
   "source": [
    "In this example we will work with the LTE level populations and **will demand** statistical equilibrium."
   ]
  },
  {
   "cell_type": "code",
   "execution_count": 6,
   "metadata": {
    "tags": []
   },
   "outputs": [
    {
     "name": "stdout",
     "output_type": "stream",
     "text": [
      "it: 0\n",
      "rr: 0\n",
      "rr: 1\n",
      "rr: 2\n",
      "rr: 3\n",
      "rr: 4\n",
      "rr: 5\n",
      "rr: 6\n",
      "rr: 7\n",
      "rr: 8\n",
      "rr: 9\n",
      "rr: 10\n",
      "rr: 11\n",
      "rr: 12\n",
      "rr: 13\n"
     ]
    },
    {
     "ename": "KeyboardInterrupt",
     "evalue": "",
     "output_type": "error",
     "traceback": [
      "\u001b[0;31m---------------------------------------------------------------------------\u001b[0m",
      "\u001b[0;31mKeyboardInterrupt\u001b[0m                         Traceback (most recent call last)",
      "Cell \u001b[0;32mIn[6], line 8\u001b[0m\n\u001b[1;32m      2\u001b[0m device \u001b[38;5;241m=\u001b[39m torch\u001b[38;5;241m.\u001b[39mdevice(\u001b[38;5;124m\"\u001b[39m\u001b[38;5;124mcuda:0\u001b[39m\u001b[38;5;124m\"\u001b[39m \u001b[38;5;28;01mif\u001b[39;00m torch\u001b[38;5;241m.\u001b[39mcuda\u001b[38;5;241m.\u001b[39mis_available() \u001b[38;5;28;01melse\u001b[39;00m \u001b[38;5;124m\"\u001b[39m\u001b[38;5;124mcpu\u001b[39m\u001b[38;5;124m\"\u001b[39m)\n\u001b[1;32m      4\u001b[0m \u001b[38;5;66;03m# Getting the full model on GPU might be a bit too much for its memory, so you might want to use your CPU instead for the computations\u001b[39;00m\n\u001b[1;32m      5\u001b[0m \u001b[38;5;66;03m# device = torch.device(\"cpu\")\u001b[39;00m\n\u001b[1;32m      6\u001b[0m \n\u001b[1;32m      7\u001b[0m \u001b[38;5;66;03m# Compute level populations\u001b[39;00m\n\u001b[0;32m----> 8\u001b[0m \u001b[43msolvers\u001b[49m\u001b[38;5;241;43m.\u001b[39;49m\u001b[43mcompute_level_populations\u001b[49m\u001b[43m(\u001b[49m\u001b[43mmodel\u001b[49m\u001b[43m,\u001b[49m\u001b[43m \u001b[49m\u001b[43mdevice\u001b[49m\u001b[38;5;241;43m=\u001b[39;49m\u001b[43mdevice\u001b[49m\u001b[43m,\u001b[49m\u001b[43m \u001b[49m\u001b[43mmax_n_iterations\u001b[49m\u001b[38;5;241;43m=\u001b[39;49m\u001b[38;5;241;43m20\u001b[39;49m\u001b[43m)\u001b[49m\n",
      "File \u001b[0;32m~/github/Magritte-torch/magrittetorch/algorithms/solvers.py:600\u001b[0m, in \u001b[0;36mcompute_level_populations\u001b[0;34m(model, device, max_n_iterations, use_ng_acceleration, use_ALI, max_its_between_ng_accel)\u001b[0m\n\u001b[1;32m    597\u001b[0m all_species_converged \u001b[38;5;241m=\u001b[39m \u001b[38;5;28;01mTrue\u001b[39;00m\n\u001b[1;32m    598\u001b[0m relative_diff_default_its \u001b[38;5;241m=\u001b[39m \u001b[38;5;241m0.0\u001b[39m            \n\u001b[0;32m--> 600\u001b[0m mean_line_intensities \u001b[38;5;241m=\u001b[39m \u001b[43msolve_long_characteristics_NLTE\u001b[49m\u001b[43m(\u001b[49m\u001b[43mmodel\u001b[49m\u001b[43m,\u001b[49m\u001b[43m \u001b[49m\u001b[43mdevice\u001b[49m\u001b[43m)\u001b[49m\n\u001b[1;32m    601\u001b[0m \u001b[38;5;28mprint\u001b[39m(\u001b[38;5;124m\"\u001b[39m\u001b[38;5;124mtotal time elapsed:\u001b[39m\u001b[38;5;124m\"\u001b[39m, time\u001b[38;5;241m.\u001b[39mtime()\u001b[38;5;241m-\u001b[39mstarttime, \u001b[38;5;124m\"\u001b[39m\u001b[38;5;124ms\u001b[39m\u001b[38;5;124m\"\u001b[39m)\n\u001b[1;32m    602\u001b[0m memManager \u001b[38;5;241m=\u001b[39m MemoryManager()\n",
      "File \u001b[0;32m~/github/Magritte-torch/magrittetorch/algorithms/solvers.py:428\u001b[0m, in \u001b[0;36msolve_long_characteristics_NLTE\u001b[0;34m(model, device)\u001b[0m\n\u001b[1;32m    426\u001b[0m     \u001b[38;5;28mprint\u001b[39m(\u001b[38;5;124m\"\u001b[39m\u001b[38;5;124mrr:\u001b[39m\u001b[38;5;124m\"\u001b[39m, raydir_index)\n\u001b[1;32m    427\u001b[0m     \u001b[38;5;66;03m#Adding the results immediately, as we will otherwise run out of memory\u001b[39;00m\n\u001b[0;32m--> 428\u001b[0m     total_intensity \u001b[38;5;241m+\u001b[39m\u001b[38;5;241m=\u001b[39m weights[raydir_index] \u001b[38;5;241m*\u001b[39m \u001b[43mmemManager\u001b[49m\u001b[38;5;241;43m.\u001b[39;49m\u001b[43mrun_with_splitting\u001b[49m\u001b[43m(\u001b[49m\u001b[43msolve_single_dir\u001b[49m\u001b[43m,\u001b[49m\u001b[43m \u001b[49m\u001b[43mtorch\u001b[49m\u001b[38;5;241;43m.\u001b[39;49m\u001b[43marange\u001b[49m\u001b[43m(\u001b[49m\u001b[43mmodel\u001b[49m\u001b[38;5;241;43m.\u001b[39;49m\u001b[43mparameters\u001b[49m\u001b[38;5;241;43m.\u001b[39;49m\u001b[43mnpoints\u001b[49m\u001b[38;5;241;43m.\u001b[39;49m\u001b[43mget\u001b[49m\u001b[43m(\u001b[49m\u001b[43m)\u001b[49m\u001b[43m,\u001b[49m\u001b[43m \u001b[49m\u001b[43mdevice\u001b[49m\u001b[38;5;241;43m=\u001b[39;49m\u001b[43mdevice\u001b[49m\u001b[43m)\u001b[49m\u001b[43m,\u001b[49m\u001b[43m \u001b[49m\u001b[43mdevice\u001b[49m\u001b[38;5;241;43m=\u001b[39;49m\u001b[43mdevice\u001b[49m\u001b[43m)\u001b[49m\n\u001b[1;32m    429\u001b[0m     \u001b[38;5;66;03m# total_intensity += weights[raydir_index] * solve_long_characteristics_single_direction(model, raydirs[raydir_index,:], model_positions, model_velocities, torch.arange(model.parameters.npoints.get(), device=device), freqhelper, device)\u001b[39;00m\n\u001b[1;32m    430\u001b[0m \u001b[38;5;28mprint\u001b[39m(\u001b[38;5;124m\"\u001b[39m\u001b[38;5;124mtime for this iteration: \u001b[39m\u001b[38;5;124m\"\u001b[39m, time\u001b[38;5;241m.\u001b[39mtime()\u001b[38;5;241m-\u001b[39mstarttime, \u001b[38;5;124m\"\u001b[39m\u001b[38;5;124ms\u001b[39m\u001b[38;5;124m\"\u001b[39m)\n",
      "File \u001b[0;32m~/github/Magritte-torch/magrittetorch/utils/memorymapping.py:40\u001b[0m, in \u001b[0;36mMemoryManager.run_with_splitting\u001b[0;34m(self, lambdafun, data, device)\u001b[0m\n\u001b[1;32m     38\u001b[0m \u001b[38;5;28mself\u001b[39m\u001b[38;5;241m.\u001b[39mlogger\u001b[38;5;241m.\u001b[39mlog(\u001b[38;5;124mf\u001b[39m\u001b[38;5;124m\"\u001b[39m\u001b[38;5;124mprocessing split \u001b[39m\u001b[38;5;132;01m{\u001b[39;00mchunk_index\u001b[38;5;132;01m}\u001b[39;00m\u001b[38;5;124m of \u001b[39m\u001b[38;5;132;01m{\u001b[39;00m\u001b[38;5;28mself\u001b[39m\u001b[38;5;241m.\u001b[39mcurr_division_factor\u001b[38;5;132;01m}\u001b[39;00m\u001b[38;5;124m\"\u001b[39m, Level\u001b[38;5;241m.\u001b[39mDEBUG)\n\u001b[1;32m     39\u001b[0m chunk_index\u001b[38;5;241m+\u001b[39m\u001b[38;5;241m=\u001b[39m\u001b[38;5;241m1\u001b[39m\n\u001b[0;32m---> 40\u001b[0m output \u001b[38;5;241m=\u001b[39m \u001b[43mlambdafun\u001b[49m\u001b[43m(\u001b[49m\u001b[43msplit\u001b[49m\u001b[43m)\u001b[49m\n\u001b[1;32m     41\u001b[0m \u001b[38;5;28;01mif\u001b[39;00m \u001b[38;5;28misinstance\u001b[39m(output, \u001b[38;5;28mtuple\u001b[39m):\n\u001b[1;32m     42\u001b[0m     \u001b[38;5;28;01mif\u001b[39;00m first:\u001b[38;5;66;03m#concat output size need to be initialized\u001b[39;00m\n",
      "File \u001b[0;32m~/github/Magritte-torch/magrittetorch/algorithms/solvers.py:421\u001b[0m, in \u001b[0;36msolve_long_characteristics_NLTE.<locals>.<lambda>\u001b[0;34m(indices)\u001b[0m\n\u001b[1;32m    419\u001b[0m \u001b[38;5;66;03m#Initialize memory manager\u001b[39;00m\n\u001b[1;32m    420\u001b[0m memManager \u001b[38;5;241m=\u001b[39m MemoryManager()\n\u001b[0;32m--> 421\u001b[0m solve_single_dir \u001b[38;5;241m=\u001b[39m \u001b[38;5;28;01mlambda\u001b[39;00m indices: \u001b[43msolve_long_characteristics_single_direction\u001b[49m\u001b[43m(\u001b[49m\u001b[43mmodel\u001b[49m\u001b[43m,\u001b[49m\u001b[43m \u001b[49m\u001b[43mraydirs\u001b[49m\u001b[43m[\u001b[49m\u001b[43mraydir_index\u001b[49m\u001b[43m]\u001b[49m\u001b[43m,\u001b[49m\u001b[43m \u001b[49m\u001b[43mmodel_positions\u001b[49m\u001b[43m[\u001b[49m\u001b[43mindices\u001b[49m\u001b[43m]\u001b[49m\u001b[43m,\u001b[49m\u001b[43m \u001b[49m\u001b[43mmodel_velocities\u001b[49m\u001b[43m[\u001b[49m\u001b[43mindices\u001b[49m\u001b[43m]\u001b[49m\u001b[43m,\u001b[49m\u001b[43m \u001b[49m\u001b[43mindices\u001b[49m\u001b[43m,\u001b[49m\u001b[43m \u001b[49m\u001b[43mfreqhelper\u001b[49m\u001b[43m,\u001b[49m\u001b[43m \u001b[49m\u001b[43mdevice\u001b[49m\u001b[43m)\u001b[49m\n\u001b[1;32m    423\u001b[0m \u001b[38;5;66;03m#add everything, with correct contribution\u001b[39;00m\n\u001b[1;32m    424\u001b[0m \u001b[38;5;28;01mfor\u001b[39;00m raydir_index \u001b[38;5;129;01min\u001b[39;00m \u001b[38;5;28mrange\u001b[39m(raydirs\u001b[38;5;241m.\u001b[39mshape[\u001b[38;5;241m0\u001b[39m]):\n\u001b[1;32m    425\u001b[0m \u001b[38;5;66;03m# for raydir_index in range(1):#DEBUG: faster testing\u001b[39;00m\n",
      "File \u001b[0;32m~/github/Magritte-torch/magrittetorch/algorithms/solvers.py:258\u001b[0m, in \u001b[0;36msolve_long_characteristics_single_direction\u001b[0;34m(model, raydir, start_positions, start_velocities, start_indices, freqhelper, device)\u001b[0m\n\u001b[1;32m    255\u001b[0m start_positions \u001b[38;5;241m=\u001b[39m start_positions[mask_active_rays,:]\n\u001b[1;32m    256\u001b[0m start_velocities \u001b[38;5;241m=\u001b[39m start_velocities[mask_active_rays,:]\n\u001b[0;32m--> 258\u001b[0m next_ids, distances \u001b[38;5;241m=\u001b[39m \u001b[43mmodel\u001b[49m\u001b[38;5;241;43m.\u001b[39;49m\u001b[43mgeometry\u001b[49m\u001b[38;5;241;43m.\u001b[39;49m\u001b[43mget_next\u001b[49m\u001b[43m(\u001b[49m\u001b[43mstart_positions\u001b[49m\u001b[43m,\u001b[49m\u001b[43m \u001b[49m\u001b[43mraydir\u001b[49m\u001b[43m,\u001b[49m\u001b[43m \u001b[49m\u001b[43mcurr_ids\u001b[49m\u001b[43m,\u001b[49m\u001b[43m \u001b[49m\u001b[43mdistance_travelled\u001b[49m\u001b[43m,\u001b[49m\u001b[43m \u001b[49m\u001b[43mdevice\u001b[49m\u001b[43m,\u001b[49m\u001b[43m \u001b[49m\u001b[43mpositions_device\u001b[49m\u001b[43m,\u001b[49m\u001b[43m \u001b[49m\u001b[43mneighbors_device\u001b[49m\u001b[43m,\u001b[49m\u001b[43m \u001b[49m\u001b[43mn_neighbors_device\u001b[49m\u001b[43m,\u001b[49m\u001b[43m \u001b[49m\u001b[43mcum_n_neighbors_device\u001b[49m\u001b[43m)\u001b[49m\n\u001b[1;32m    259\u001b[0m distance_increment \u001b[38;5;241m=\u001b[39m distances \u001b[38;5;241m-\u001b[39m distance_travelled\n\u001b[1;32m    261\u001b[0m distance_travelled \u001b[38;5;241m=\u001b[39m distances\n",
      "File \u001b[0;32m~/github/Magritte-torch/magrittetorch/model/geometry/geometry.py:125\u001b[0m, in \u001b[0;36mGeometry.get_next\u001b[0;34m(self, origin_coords, raydirection, curr_points_index, distance_travelled, device, positions_device, neighbors_device, n_neighbors_device, cum_n_neighbors_device)\u001b[0m\n\u001b[1;32m    123\u001b[0m \u001b[38;5;28;01mmatch\u001b[39;00m \u001b[38;5;28mself\u001b[39m\u001b[38;5;241m.\u001b[39mgeometryType\u001b[38;5;241m.\u001b[39mget():\n\u001b[1;32m    124\u001b[0m     \u001b[38;5;28;01mcase\u001b[39;00m GeometryType\u001b[38;5;241m.\u001b[39mGeneral3D:\n\u001b[0;32m--> 125\u001b[0m         \u001b[38;5;28;01mreturn\u001b[39;00m \u001b[38;5;28;43mself\u001b[39;49m\u001b[38;5;241;43m.\u001b[39;49m\u001b[43mget_next_3D_geometry\u001b[49m\u001b[43m(\u001b[49m\u001b[43morigin_coords\u001b[49m\u001b[43m,\u001b[49m\u001b[43m \u001b[49m\u001b[43mraydirection\u001b[49m\u001b[43m,\u001b[49m\u001b[43m \u001b[49m\u001b[43mcurr_points_index\u001b[49m\u001b[43m,\u001b[49m\u001b[43m \u001b[49m\u001b[43mdevice\u001b[49m\u001b[43m,\u001b[49m\u001b[43m \u001b[49m\u001b[43mpositions_device\u001b[49m\u001b[43m,\u001b[49m\u001b[43m \u001b[49m\u001b[43mneighbors_device\u001b[49m\u001b[43m,\u001b[49m\u001b[43m \u001b[49m\u001b[43mn_neighbors_device\u001b[49m\u001b[43m,\u001b[49m\u001b[43m \u001b[49m\u001b[43mcum_n_neighbors_device\u001b[49m\u001b[43m)\u001b[49m\n\u001b[1;32m    126\u001b[0m     \u001b[38;5;28;01mcase\u001b[39;00m GeometryType\u001b[38;5;241m.\u001b[39mSpericallySymmetric1D:\n\u001b[1;32m    127\u001b[0m         \u001b[38;5;28;01mreturn\u001b[39;00m \u001b[38;5;28mself\u001b[39m\u001b[38;5;241m.\u001b[39mget_next_1D_spherical_symmetry(origin_coords, raydirection, curr_points_index, distance_travelled, device, positions_device)\n",
      "File \u001b[0;32m~/github/Magritte-torch/magrittetorch/model/geometry/geometry.py:160\u001b[0m, in \u001b[0;36mGeometry.get_next_3D_geometry\u001b[0;34m(self, origin_coords, raydirection, curr_points_index, device, positions_device, neighbors_device, n_neighbors_device, cum_n_neighbors_device)\u001b[0m\n\u001b[1;32m    157\u001b[0m neighbors_to_check \u001b[38;5;241m=\u001b[39m torch\u001b[38;5;241m.\u001b[39mgather(neighbors_device, \u001b[38;5;241m0\u001b[39m, indices_to_check) \u001b[38;5;66;03m# dims: [sum(n_neighbors_device[curr_points_index])]\u001b[39;00m\n\u001b[1;32m    159\u001b[0m \u001b[38;5;66;03m#Get distances and compare with distance of current point; TODO: maybe use squared distance instead for ydist\u001b[39;00m\n\u001b[0;32m--> 160\u001b[0m xdistance, ydistance \u001b[38;5;241m=\u001b[39m \u001b[38;5;28;43mself\u001b[39;49m\u001b[38;5;241;43m.\u001b[39;49m\u001b[43mdistance_in_direction_3D_geometry\u001b[49m\u001b[43m(\u001b[49m\u001b[43mlengthened_origin_coords\u001b[49m\u001b[43m,\u001b[49m\u001b[43m \u001b[49m\u001b[43mraydirection\u001b[49m\u001b[43m,\u001b[49m\u001b[43m \u001b[49m\u001b[43mpositions_device\u001b[49m\u001b[43m[\u001b[49m\u001b[43mneighbors_to_check\u001b[49m\u001b[43m]\u001b[49m\u001b[43m)\u001b[49m \u001b[38;5;66;03m# dims: [sum(n_neighbors_device[curr_points_index])] for both\u001b[39;00m\n\u001b[1;32m    162\u001b[0m \u001b[38;5;66;03m#Figure out the indices of the closest points\u001b[39;00m\n\u001b[1;32m    163\u001b[0m tempstuff \u001b[38;5;241m=\u001b[39m torch\u001b[38;5;241m.\u001b[39mzeros(input_size, device\u001b[38;5;241m=\u001b[39mdevice, dtype\u001b[38;5;241m=\u001b[39mTypes\u001b[38;5;241m.\u001b[39mGeometryInfo) \u001b[38;5;66;03m#dims: [NPOINTS]\u001b[39;00m\n",
      "File \u001b[0;32m~/github/Magritte-torch/magrittetorch/model/geometry/geometry.py:52\u001b[0m, in \u001b[0;36mGeometry.distance_in_direction_3D_geometry\u001b[0;34m(self, origin_coords, raydirection, points_position)\u001b[0m\n\u001b[1;32m     40\u001b[0m \u001b[38;5;250m\u001b[39m\u001b[38;5;124;03m\"\"\"Computes the distances to the points in a 3D setting\u001b[39;00m\n\u001b[1;32m     41\u001b[0m \n\u001b[1;32m     42\u001b[0m \u001b[38;5;124;03mArgs:\u001b[39;00m\n\u001b[0;32m   (...)\u001b[0m\n\u001b[1;32m     49\u001b[0m \u001b[38;5;124;03m    torch.Tensor: Perpendicular squared distance of the rays to the points. Note: numerical error can cause this to be negative\u001b[39;00m\n\u001b[1;32m     50\u001b[0m \u001b[38;5;124;03m\"\"\"\u001b[39;00m\n\u001b[1;32m     51\u001b[0m distance_on_ray : torch\u001b[38;5;241m.\u001b[39mTensor \u001b[38;5;241m=\u001b[39m torch\u001b[38;5;241m.\u001b[39msum((points_position\u001b[38;5;241m-\u001b[39morigin_coords) \u001b[38;5;241m*\u001b[39m raydirection, dim \u001b[38;5;241m=\u001b[39m \u001b[38;5;241m1\u001b[39m)\n\u001b[0;32m---> 52\u001b[0m total_distance2 : torch\u001b[38;5;241m.\u001b[39mTensor \u001b[38;5;241m=\u001b[39m \u001b[43mtorch\u001b[49m\u001b[38;5;241;43m.\u001b[39;49m\u001b[43msum\u001b[49m\u001b[43m(\u001b[49m\u001b[43m(\u001b[49m\u001b[43mpoints_position\u001b[49m\u001b[38;5;241;43m-\u001b[39;49m\u001b[43morigin_coords\u001b[49m\u001b[43m)\u001b[49m\u001b[38;5;241;43m*\u001b[39;49m\u001b[38;5;241;43m*\u001b[39;49m\u001b[38;5;241;43m2\u001b[39;49m\u001b[43m,\u001b[49m\u001b[43m \u001b[49m\u001b[43mdim\u001b[49m\u001b[43m \u001b[49m\u001b[38;5;241;43m=\u001b[39;49m\u001b[43m \u001b[49m\u001b[38;5;241;43m1\u001b[39;49m\u001b[43m)\u001b[49m\n\u001b[1;32m     53\u001b[0m \u001b[38;5;28;01mreturn\u001b[39;00m distance_on_ray, total_distance2\u001b[38;5;241m-\u001b[39mdistance_on_ray\u001b[38;5;241m*\u001b[39m\u001b[38;5;241m*\u001b[39m\u001b[38;5;241m2\u001b[39m\n",
      "\u001b[0;31mKeyboardInterrupt\u001b[0m: "
     ]
    }
   ],
   "source": [
    "# If you have a GPU, we can use it to speed up the computations\n",
    "device = torch.device(\"cuda:0\" if torch.cuda.is_available() else \"cpu\")\n",
    "\n",
    "# Getting the full model on GPU might be a bit too much for its memory, so you might want to use your CPU instead for the computations\n",
    "# device = torch.device(\"cpu\")\n",
    "\n",
    "# Compute level populations\n",
    "solvers.compute_level_populations(model, device=device, max_n_iterations=20)"
   ]
  },
  {
   "cell_type": "markdown",
   "metadata": {},
   "source": [
    "(note) In the output, you might see warnings concerning negative line opacities. Our solvers become numerically unstable in this regime, thus as a workaround, we put the offending levels at the affected positions, to LTE."
   ]
  },
  {
   "cell_type": "markdown",
   "metadata": {},
   "source": [
    "## Make synthetic observations"
   ]
  },
  {
   "cell_type": "markdown",
   "metadata": {},
   "source": [
    "Now we can make synthetic observations of the model."
   ]
  },
  {
   "cell_type": "code",
   "execution_count": null,
   "metadata": {},
   "outputs": [],
   "source": [
    "# Get the line frequency corresponding to the CO 2-1 line\n",
    "fcen = model.sources.lines.lineProducingSpecies[0].linedata.frequency.get(device)[1]\n",
    "vpix = 1500   # velocity pixel size [m/s] \n",
    "nfreqs = 31   # number of frequency bins\n",
    "dd   = vpix * (nfreqs-1)/2 / constants.c.value # frequency bin size [Hz]\n",
    "fmin = fcen - fcen*dd\n",
    "fmax = fcen + fcen*dd\n",
    "\n",
    "image_freqs = torch.linspace(fmin, fmax, nfreqs, device=device, dtype=torch.float64)\n",
    "\n",
    "# Compute image in the specified direction at the given frequencies\n",
    "solvers.image_model(model, torch.Tensor([0,0,1]).type(torch.float64).to(device), image_freqs, device)"
   ]
  },
  {
   "cell_type": "markdown",
   "metadata": {},
   "source": [
    "## Plot observations"
   ]
  },
  {
   "cell_type": "markdown",
   "metadata": {},
   "source": [
    "Plot the resulting channel maps with the Magritte matplotlib back end."
   ]
  },
  {
   "cell_type": "code",
   "execution_count": null,
   "metadata": {},
   "outputs": [],
   "source": [
    "plot.image_mpl(\n",
    "    model,\n",
    "    image_nr =  -1,\n",
    "    zoom     = 1.3,\n",
    "    npix_x   = 256,\n",
    "    npix_y   = 256,\n",
    "    x_unit   = units.au,\n",
    "    v_unit   = units.km / units.s,\n",
    "    method = 'nearest'\n",
    ")"
   ]
  },
  {
   "cell_type": "markdown",
   "metadata": {},
   "source": [
    "(The plot is only interactive in a live notebook.)"
   ]
  },
  {
   "cell_type": "markdown",
   "metadata": {},
   "source": [
    "Save the image cube in a fits file."
   ]
  },
  {
   "cell_type": "code",
   "execution_count": null,
   "metadata": {},
   "outputs": [],
   "source": [
    "plot.save_fits(model)"
   ]
  },
  {
   "cell_type": "markdown",
   "metadata": {},
   "source": [
    "(Optional: To create your own plots) Overview of data stored in the Image object"
   ]
  },
  {
   "cell_type": "code",
   "execution_count": null,
   "metadata": {
    "tags": []
   },
   "outputs": [],
   "source": [
    "import numpy as np\n",
    "xdir = np.array(model.images[-1].image_direction_x.get())#directions of the x-and y-vectors of the image\n",
    "ydir = np.array(model.images[-1].image_direction_y.get())\n",
    "zdir = np.array(model.images[-1].image_direction_z.get())#this is direction in which we observe the object\n",
    "print(\"image directions: \", xdir, ydir, zdir)\n",
    "nfreqs = np.array(model.images[-1].nfreqs.get()) #number of frequency bins\n",
    "freqs = np.array(model.images[-1].freqs.get_astropy()) #frequency bins [Hz]\n",
    "print(\"# of frequencies: \", nfreqs, \" frequencies :\", freqs)\n",
    "ImX = np.array(model.images[-1].imX.get_astropy())#X position in image [m]\n",
    "ImY = np.array(model.images[-1].imY.get_astropy())#Y position in image [m]\n",
    "I = np.array(model.images[-1].I.get_astropy())#Intensity at the corresponding ImX, ImY position [W/(m^2*Hz*sr)], at a given frequency bin\n",
    "# print(\"Intensities :\", I, \" ImX:\", ImX, \"ImY:\", ImY) #prints a lot of output"
   ]
  },
  {
   "cell_type": "code",
   "execution_count": null,
   "metadata": {},
   "outputs": [],
   "source": []
  }
 ],
 "metadata": {
  "kernelspec": {
   "display_name": "Python 3 (ipykernel)",
   "language": "python",
   "name": "python3"
  },
  "language_info": {
   "codemirror_mode": {
    "name": "ipython",
    "version": 3
   },
   "file_extension": ".py",
   "mimetype": "text/x-python",
   "name": "python",
   "nbconvert_exporter": "python",
   "pygments_lexer": "ipython3",
   "version": "3.11.4"
  },
  "widgets": {
   "application/vnd.jupyter.widget-state+json": {
    "state": {},
    "version_major": 2,
    "version_minor": 0
   }
  }
 },
 "nbformat": 4,
 "nbformat_minor": 4
}
